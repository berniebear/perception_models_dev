{
 "cells": [
  {
   "cell_type": "code",
   "execution_count": 2,
   "id": "bc3e2cf9",
   "metadata": {},
   "outputs": [],
   "source": [
    "## Perception Encoder Demo"
   ]
  },
  {
   "cell_type": "code",
   "execution_count": 1,
   "id": "89375a2a",
   "metadata": {},
   "outputs": [],
   "source": [
    "import torch, os\n",
    "import decord\n",
    "from core.vision_encoder.factory import create_model_and_transforms, get_tokenizer\n",
    "from PIL import Image"
   ]
  },
  {
   "cell_type": "code",
   "execution_count": 2,
   "id": "94a3c87c",
   "metadata": {},
   "outputs": [
    {
     "name": "stdout",
     "output_type": "stream",
     "text": [
      "{'embed_dim': 1280, 'quick_gelu': False, 'vision_cfg': {'image_size': 448, 'patch_size': 14, 'layers': 50, 'width': 1536, 'output_dim': 1280, 'head_width': 96, 'heads': 16, 'mlp_ratio': 5.833333334, 'global_layers': -1, 'relative_pos_embed_type': 'rope_2d', 'pos_embed_type': 'learnable', 'pool_type': 'attn', 'embed_cls_token': False}, 'text_cfg': {'context_length': 72, 'vocab_size': 49408, 'width': 1280, 'output_dim': 1280, 'heads': 20, 'layers': 24}}\n"
     ]
    },
    {
     "name": "stderr",
     "output_type": "stream",
     "text": [
      "/opt/hpcaas/.mounts/fs-072917c00f01ae1ba/home/berniehuang/git/perception_models_dev/core/vision_encoder/factory.py:128: FutureWarning: You are using `torch.load` with `weights_only=False` (the current default value), which uses the default pickle module implicitly. It is possible to construct malicious pickle data which will execute arbitrary code during unpickling (See https://github.com/pytorch/pytorch/blob/main/SECURITY.md#untrusted-models for more details). In a future release, the default value for `weights_only` will be flipped to `True`. This limits the functions that could be executed during unpickling. Arbitrary objects will no longer be allowed to be loaded via this mode unless they are explicitly allowlisted by the user via `torch.serialization.add_safe_globals`. We recommend you start setting `weights_only=True` for any use case where you don't have full control of the loaded file. Please open an issue on GitHub for any issues related to this experimental feature.\n",
      "  checkpoint = torch.load(checkpoint_path, map_location=map_location)\n"
     ]
    },
    {
     "name": "stdout",
     "output_type": "stream",
     "text": [
      "_IncompatibleKeys(missing_keys=[], unexpected_keys=['logit_scale'])\n",
      "Submodule: visual\n",
      "Number of parameters:\n",
      "1.88 Billion\n",
      "Submodule: transformer\n",
      "Number of parameters:\n",
      "0.47 Billion\n",
      "Submodule: token_embedding\n",
      "Number of parameters:\n",
      "0.06 Billion\n",
      "Submodule: ln_final\n",
      "Number of parameters:\n",
      "0.00 Billion\n"
     ]
    }
   ],
   "source": [
    "model_name = 'PE-Core-G14-448'\n",
    "model, _, preprocess = create_model_and_transforms(model_name)\n",
    "model = model.cuda()\n",
    "tokenizer = get_tokenizer(model_name)"
   ]
  },
  {
   "cell_type": "code",
   "execution_count": 4,
   "id": "38f80aa1",
   "metadata": {},
   "outputs": [
    {
     "name": "stdout",
     "output_type": "stream",
     "text": [
      "Label probs: tensor([[2.1108e-05, 2.3231e-04, 9.9975e-01]], device='cuda:0')\n"
     ]
    }
   ],
   "source": [
    "os.chdir('/home/berniehuang/git/perception_models_dev/apps/pe/')\n",
    "image = preprocess(Image.open(\"./docs/cat.png\")).unsqueeze(0).cuda()\n",
    "text = tokenizer([\"a diagram\", \"a dog\", \"a cat\"]).cuda()\n",
    "with torch.no_grad(), torch.autocast(\"cuda\"):\n",
    "    image_features = model.encode_image(image)\n",
    "    text_features = model.encode_text(text)\n",
    "    image_features /= image_features.norm(dim=-1, keepdim=True)\n",
    "    text_features /= text_features.norm(dim=-1, keepdim=True)\n",
    "    text_probs = (100.0 * image_features @ text_features.T).softmax(dim=-1)\n",
    "print(\"Label probs:\", text_probs)  # prints: [[0.0, 0.0, 1.0]]"
   ]
  },
  {
   "cell_type": "code",
   "execution_count": 5,
   "id": "530e4d78",
   "metadata": {},
   "outputs": [
    {
     "name": "stdout",
     "output_type": "stream",
     "text": [
      "torch.Size([1, 8, 3, 448, 448])\n"
     ]
    }
   ],
   "source": [
    "def preprocess_video(video_path, num_frames=8, transform=None):\n",
    "    \"\"\"\n",
    "    Uniformly samples a specified number of frames from a video and preprocesses them.\n",
    "    Parameters:\n",
    "    - video_path: str, path to the video file.\n",
    "    - num_frames: int, number of frames to sample. Defaults to 8.\n",
    "    - transform: torchvision.transforms, a transform function to preprocess frames.\n",
    "    Returns:\n",
    "    - Video Tensor: a tensor of shape (num_frames, 3, H, W) where H and W are the height and width of the frames.\n",
    "    \"\"\"\n",
    "    # Load the video\n",
    "    vr = decord.VideoReader(video_path)\n",
    "    total_frames = len(vr)\n",
    "    # Uniformly sample frame indices\n",
    "    frame_indices = [int(i * (total_frames / num_frames)) for i in range(num_frames)]\n",
    "    frames = vr.get_batch(frame_indices).asnumpy()\n",
    "    # Preprocess frames\n",
    "    preprocessed_frames = [transform(Image.fromarray(frame)) for frame in frames]\n",
    "    return torch.stack(preprocessed_frames, dim=0)\n",
    "\n",
    "video = preprocess_video(\"./docs/dog.mp4\", 8, transform=preprocess).unsqueeze(0).cuda()\n",
    "text = tokenizer([\"a diagram\", \"a dog\", \"a cat\"]).cuda()\n",
    "print(video.shape)"
   ]
  },
  {
   "cell_type": "code",
   "execution_count": 6,
   "id": "9fe4ab59",
   "metadata": {},
   "outputs": [
    {
     "name": "stdout",
     "output_type": "stream",
     "text": [
      "Label probs: tensor([[5.1739e-05, 9.9790e-01, 2.0506e-03]], device='cuda:0')\n"
     ]
    }
   ],
   "source": [
    "with torch.no_grad(), torch.autocast(\"cuda\"):\n",
    "    image_features = model.encode_video2(video)\n",
    "    text_features = model.encode_text(text)\n",
    "    image_features /= image_features.norm(dim=-1, keepdim=True)\n",
    "    text_features /= text_features.norm(dim=-1, keepdim=True)\n",
    "    text_probs = (100.0 * image_features @ text_features.T).softmax(dim=-1)\n",
    "\n",
    "print(\"Label probs:\", text_probs)  # prints: [[0.0, 1.0, 1.0]]"
   ]
  },
  {
   "cell_type": "code",
   "execution_count": null,
   "id": "4536817f",
   "metadata": {},
   "outputs": [],
   "source": []
  }
 ],
 "metadata": {
  "kernelspec": {
   "display_name": "Python 3 (ipykernel)",
   "language": "python",
   "name": "python3"
  },
  "language_info": {
   "codemirror_mode": {
    "name": "ipython",
    "version": 3
   },
   "file_extension": ".py",
   "mimetype": "text/x-python",
   "name": "python",
   "nbconvert_exporter": "python",
   "pygments_lexer": "ipython3",
   "version": "3.9.20"
  }
 },
 "nbformat": 4,
 "nbformat_minor": 5
}
